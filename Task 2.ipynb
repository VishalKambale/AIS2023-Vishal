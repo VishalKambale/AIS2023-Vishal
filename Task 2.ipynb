{
 "cells": [
  {
   "cell_type": "code",
   "execution_count": 26,
   "id": "4ccd2181",
   "metadata": {},
   "outputs": [
    {
     "name": "stdout",
     "output_type": "stream",
     "text": [
      "[1, 2, 3, 4, 5, 6, 7, 8, 9, 10, 11, 12, 13, 14, 15, 16, 17, 18, 19, 20]\n"
     ]
    }
   ],
   "source": [
    "#create list of 1 to 20 number using loop \n",
    "\n",
    "a = []\n",
    "i = 21\n",
    "for i in range (1,21):\n",
    "    a.append(i)  \n",
    "print(a)"
   ]
  },
  {
   "cell_type": "code",
   "execution_count": 27,
   "id": "c2eb1a21",
   "metadata": {},
   "outputs": [
    {
     "name": "stdout",
     "output_type": "stream",
     "text": [
      "[20, 19, 18, 17, 16, 15, 14, 13, 12, 11, 10, 9, 8, 7, 6, 5, 4, 3, 2, 1, 0]\n"
     ]
    }
   ],
   "source": [
    "#create list of 20 to 0 number using loop\n",
    "\n",
    "a = []\n",
    "i = 21\n",
    "while i>0:\n",
    "    i = i-1\n",
    "    a.append(i)  \n",
    "print(a)"
   ]
  },
  {
   "cell_type": "code",
   "execution_count": 28,
   "id": "9c9fd8e0",
   "metadata": {},
   "outputs": [
    {
     "name": "stdout",
     "output_type": "stream",
     "text": [
      "Your grade is O\n"
     ]
    }
   ],
   "source": [
    "#conditional loop\n",
    "\n",
    "Mark = 98\n",
    "if (Mark > 90):\n",
    "    print(\"Your grade is O\")\n",
    "elif (Mark > 80):\n",
    "    print(\"Your grade is A\")\n",
    "elif (Mark > 70):\n",
    "    print(\"Your grade is B\")\n",
    "elif (Mark > 60):\n",
    "    print(\"Your grade is C\")\n",
    "else:\n",
    "    print(\"Fail.....\")"
   ]
  },
  {
   "cell_type": "code",
   "execution_count": 32,
   "id": "dcf2c1fc",
   "metadata": {},
   "outputs": [
    {
     "name": "stdout",
     "output_type": "stream",
     "text": [
      "Enter number: 47\n",
      "Number is Prime\n"
     ]
    }
   ],
   "source": [
    "#conditional loop prime number\n",
    "\n",
    "num = int(input(\"Enter number: \"))\n",
    "if num > 1:\n",
    "    for i in range(2,num):\n",
    "        if (num % i) == 0:\n",
    "            print(\"number is not prime\")\n",
    "            break\n",
    "    else:\n",
    "        print(\"Number is Prime\")"
   ]
  },
  {
   "cell_type": "code",
   "execution_count": 47,
   "id": "db9f32d2",
   "metadata": {},
   "outputs": [
    {
     "name": "stdout",
     "output_type": "stream",
     "text": [
      "start: 12\n",
      "1\n",
      "3\n",
      "5\n",
      "7\n",
      "9\n",
      "11\n"
     ]
    }
   ],
   "source": [
    "#using \"for loop\" print odd number without using range step parameter\n",
    "\n",
    "num = int(input(\"start: \"))\n",
    "for n in range(1,num):\n",
    "    if n%2 !=0:  \n",
    "        print(n)\n",
    "        continue"
   ]
  },
  {
   "cell_type": "code",
   "execution_count": 141,
   "id": "07515a09",
   "metadata": {},
   "outputs": [
    {
     "name": "stdout",
     "output_type": "stream",
     "text": [
      "A1\n",
      "B2\n",
      "C3\n",
      "D4\n",
      "E5\n",
      "F6\n",
      "G7\n",
      "H8\n",
      "I9\n",
      "J10\n",
      "K11\n",
      "L12\n",
      "M13\n",
      "N14\n",
      "O15\n",
      "P16\n",
      "Q17\n",
      "R18\n",
      "S19\n",
      "T20\n",
      "U21\n",
      "V22\n",
      "W23\n",
      "X24\n",
      "Y25\n",
      "Z26\n"
     ]
    }
   ],
   "source": [
    "#Write code need given ans A1...Z26\n",
    "\n",
    "for i in range(1,27):\n",
    "    print(chr(64+i)+str(i))"
   ]
  },
  {
   "cell_type": "code",
   "execution_count": 70,
   "id": "1f470e37",
   "metadata": {},
   "outputs": [
    {
     "name": "stdout",
     "output_type": "stream",
     "text": [
      "(1, 3, 2, 4, 6, 5)\n",
      "(5, 6, 4, 2, 3, 1)\n"
     ]
    }
   ],
   "source": [
    "'''Write code reverse to given tuple (don’t use reverse method )\n",
    "T=(1,3,2,4,6,5)'''\n",
    "\n",
    "V=(1,3,2,4,6,5)\n",
    "print(V)\n",
    "V = V[::-1]  \n",
    "print(V) "
   ]
  },
  {
   "cell_type": "code",
   "execution_count": 142,
   "id": "765fbb12",
   "metadata": {},
   "outputs": [
    {
     "name": "stdout",
     "output_type": "stream",
     "text": [
      "Python\n",
      "s\n",
      "t\n",
      "a\n",
      "t\n",
      "i\n",
      "Python\n",
      "s\n",
      "t\n",
      "i\n",
      "c\n",
      "Python\n",
      "s\n"
     ]
    }
   ],
   "source": [
    "'''Write code print “statistics” like that'''\n",
    "\n",
    "word=\"statistics\"\n",
    "for i in range(len(word)):\n",
    "    if word[i]=='s':  \n",
    "        print('Python')\n",
    "    print(word[i])"
   ]
  },
  {
   "cell_type": "code",
   "execution_count": 137,
   "id": "e5bc8924",
   "metadata": {},
   "outputs": [
    {
     "name": "stdout",
     "output_type": "stream",
     "text": [
      "python\n",
      "s\n",
      "t\n",
      "a\n",
      "t\n",
      "i\n",
      "python\n",
      "s\n",
      "t\n",
      "i\n",
      "c\n",
      "python\n",
      "s\n"
     ]
    }
   ],
   "source": [
    "for i in \"statistics\":\n",
    "    if i=='s':\n",
    "        print(\"python\")\n",
    "    print(i)"
   ]
  },
  {
   "cell_type": "code",
   "execution_count": 140,
   "id": "e5ca90af",
   "metadata": {},
   "outputs": [
    {
     "name": "stdout",
     "output_type": "stream",
     "text": [
      "a\n",
      "b\n",
      "c\n",
      "d\n",
      "e\n",
      "f\n"
     ]
    }
   ],
   "source": [
    "'''alpha= [a,b,c,d,e,f,g,h,i]\n",
    "Print every word and stop iteration after getting g ltr'''\n",
    "\n",
    "alpha = (\"a\",\"b\",\"c\",\"d\",\"e\",\"f\",\"g\",\"h\",\"i\")\n",
    "for i in alpha:\n",
    "    if i==\"g\":\n",
    "        break\n",
    "    print(i)"
   ]
  },
  {
   "cell_type": "code",
   "execution_count": null,
   "id": "ebd157a0",
   "metadata": {},
   "outputs": [],
   "source": []
  }
 ],
 "metadata": {
  "kernelspec": {
   "display_name": "Python 3 (ipykernel)",
   "language": "python",
   "name": "python3"
  },
  "language_info": {
   "codemirror_mode": {
    "name": "ipython",
    "version": 3
   },
   "file_extension": ".py",
   "mimetype": "text/x-python",
   "name": "python",
   "nbconvert_exporter": "python",
   "pygments_lexer": "ipython3",
   "version": "3.9.12"
  }
 },
 "nbformat": 4,
 "nbformat_minor": 5
}
