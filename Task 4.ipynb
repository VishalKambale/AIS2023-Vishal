{
 "cells": [
  {
   "cell_type": "code",
   "execution_count": 1,
   "id": "33453f12",
   "metadata": {},
   "outputs": [],
   "source": [
    "# 1) Program to swap first and last element using python function\n",
    "\n",
    "def swap(num):\n",
    "    if len(num) <2:\n",
    "        return num\n",
    "    else:\n",
    "        first = num[0]\n",
    "        last= num[-1]\n",
    "        num[0]= last\n",
    "        num[-1]= first\n",
    "        return num"
   ]
  },
  {
   "cell_type": "code",
   "execution_count": 2,
   "id": "59d6ad1e",
   "metadata": {},
   "outputs": [
    {
     "name": "stdout",
     "output_type": "stream",
     "text": [
      "[14, 13, 12]\n"
     ]
    }
   ],
   "source": [
    "num=[12,13,14]\n",
    "swap_nos = swap(num)\n",
    "print(swap_nos)"
   ]
  },
  {
   "cell_type": "code",
   "execution_count": 3,
   "id": "0b316305",
   "metadata": {},
   "outputs": [
    {
     "name": "stdout",
     "output_type": "stream",
     "text": [
      "[14, 13, 12]\n"
     ]
    }
   ],
   "source": [
    "l=[12,13,14]\n",
    "a=l[-1]\n",
    "l[-1]=l[0]\n",
    "l[0]=a\n",
    "print(l)"
   ]
  },
  {
   "cell_type": "code",
   "execution_count": 4,
   "id": "11025315",
   "metadata": {},
   "outputs": [
    {
     "name": "stdout",
     "output_type": "stream",
     "text": [
      "6\n"
     ]
    }
   ],
   "source": [
    "# 2) Function to count length of string\n",
    "# Syntax len(str)\n",
    "\n",
    "T=('a','b','c','v',\"i\",'i')\n",
    "print(len(T))"
   ]
  },
  {
   "cell_type": "code",
   "execution_count": 15,
   "id": "e78ec416",
   "metadata": {},
   "outputs": [
    {
     "name": "stdout",
     "output_type": "stream",
     "text": [
      "6\n"
     ]
    }
   ],
   "source": [
    "string = 'vishal'\n",
    "\n",
    "count = 0\n",
    "\n",
    "for i in string:\n",
    " \n",
    "    count+=1\n",
    "print(count)"
   ]
  },
  {
   "cell_type": "code",
   "execution_count": 5,
   "id": "2f69cdc4",
   "metadata": {},
   "outputs": [
    {
     "name": "stdout",
     "output_type": "stream",
     "text": [
      "Please enter any 5 integer nmbers\n",
      "\n",
      "Number 0 = 1\n",
      "Number 1 = 1\n",
      "Number 2 = 1\n",
      "Number 3 = 1\n",
      "Number 4 = 1\n",
      "The Sum of Numbers after Skipping Negative Numbers =  5\n"
     ]
    }
   ],
   "source": [
    "# Program to get the sum of an only non negative integer\n",
    "\n",
    "Sum=0\n",
    "\n",
    "print(\"Please enter any 5 integer nmbers\\n\")\n",
    "for i in range(0, 5):\n",
    "    num = int(input(\"Number %d = \" %i))\n",
    "\n",
    "    if num < 0:\n",
    "        continue\n",
    "\n",
    "    Sum = Sum + num\n",
    "\n",
    "print(\"The Sum of Numbers after Skipping Negative Numbers = \",Sum)"
   ]
  },
  {
   "cell_type": "code",
   "execution_count": 6,
   "id": "ecfab0e6",
   "metadata": {},
   "outputs": [
    {
     "name": "stdout",
     "output_type": "stream",
     "text": [
      "sum =  78\n"
     ]
    }
   ],
   "source": [
    "# Program to get the sum of an only non negative integer\n",
    "l=(2,4,6,-4,-2,5,-3,7,8,-3,-85,46)\n",
    "\n",
    "Sum=0\n",
    "for i in (l):\n",
    "    if i<0:\n",
    "        continue\n",
    "    else:\n",
    "        Sum = Sum + i\n",
    "print(\"sum = \",Sum)\n",
    "    "
   ]
  },
  {
   "cell_type": "code",
   "execution_count": 6,
   "id": "ddf3a702",
   "metadata": {},
   "outputs": [
    {
     "name": "stdout",
     "output_type": "stream",
     "text": [
      "Number = 5\n",
      "120\n"
     ]
    }
   ],
   "source": [
    "# Program for factorial using function\n",
    "x = int(input(\"Number = \"))\n",
    "def fact(x):\n",
    "    if x == 1:\n",
    "        return 1\n",
    "    else:\n",
    "        return (x * fact(x-1))\n",
    "print(fact(x))"
   ]
  },
  {
   "cell_type": "code",
   "execution_count": 8,
   "id": "ed4aa3b8",
   "metadata": {},
   "outputs": [
    {
     "name": "stdout",
     "output_type": "stream",
     "text": [
      "120\n"
     ]
    }
   ],
   "source": [
    "def fact1(x):\n",
    "    m=1\n",
    "    while x> 0:\n",
    "        m = m* x\n",
    "        x-=1\n",
    "    return m\n",
    "print(fact1(5))"
   ]
  }
 ],
 "metadata": {
  "kernelspec": {
   "display_name": "Python 3 (ipykernel)",
   "language": "python",
   "name": "python3"
  },
  "language_info": {
   "codemirror_mode": {
    "name": "ipython",
    "version": 3
   },
   "file_extension": ".py",
   "mimetype": "text/x-python",
   "name": "python",
   "nbconvert_exporter": "python",
   "pygments_lexer": "ipython3",
   "version": "3.9.12"
  }
 },
 "nbformat": 4,
 "nbformat_minor": 5
}
