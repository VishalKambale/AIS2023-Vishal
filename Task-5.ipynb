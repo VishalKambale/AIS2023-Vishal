{
 "cells": [
  {
   "cell_type": "markdown",
   "id": "8957d5a8",
   "metadata": {},
   "source": [
    "# Numpy"
   ]
  },
  {
   "cell_type": "raw",
   "id": "c9b78e8f",
   "metadata": {},
   "source": [
    "numpy library is the core library for scitific computing in python\n",
    "It provide high performance in multidimensional array object,tool for working with this arrays\n",
    "\n",
    "*Array creation methods in Numpy\n",
    "1.Conversion from other Python structures (i.e. lists and tuples)\n",
    "2.Intrinsic NumPy array creation functions (e.g. arange, ones, zeros, etc.)\n",
    "3.Replicating, joining, or mutating existing arrays\n",
    "4.Reading arrays from disk, either from standard or custom formats\n",
    "5.Creating arrays from raw bytes through the use of strings or buffers\n",
    "6.Use of special library functions (e.g., random)\n",
    "\n",
    "#1 d array=vector\n",
    "#2 d array=metrics\n",
    "#3 d array=tensor"
   ]
  },
  {
   "cell_type": "code",
   "execution_count": 1,
   "id": "be0e474e",
   "metadata": {},
   "outputs": [],
   "source": [
    "import numpy as np"
   ]
  },
  {
   "cell_type": "code",
   "execution_count": 2,
   "id": "38873e18",
   "metadata": {},
   "outputs": [],
   "source": [
    "my_array1= np.array([1,2,3,4,5,6])"
   ]
  },
  {
   "cell_type": "code",
   "execution_count": 3,
   "id": "c2e4930c",
   "metadata": {},
   "outputs": [
    {
     "data": {
      "text/plain": [
       "array([1, 2, 3, 4, 5, 6])"
      ]
     },
     "execution_count": 3,
     "metadata": {},
     "output_type": "execute_result"
    }
   ],
   "source": [
    "my_array1"
   ]
  },
  {
   "cell_type": "code",
   "execution_count": 4,
   "id": "86655ec1",
   "metadata": {},
   "outputs": [],
   "source": [
    "#chnge element\n",
    "my_array1 [2:4] = 12"
   ]
  },
  {
   "cell_type": "code",
   "execution_count": 5,
   "id": "6b452afa",
   "metadata": {},
   "outputs": [
    {
     "data": {
      "text/plain": [
       "array([ 1,  2, 12, 12,  5,  6])"
      ]
     },
     "execution_count": 5,
     "metadata": {},
     "output_type": "execute_result"
    }
   ],
   "source": [
    "my_array1"
   ]
  },
  {
   "cell_type": "code",
   "execution_count": 6,
   "id": "6b928f94",
   "metadata": {},
   "outputs": [
    {
     "data": {
      "text/plain": [
       "array([ 1,  2, 12, 12,  5,  6])"
      ]
     },
     "execution_count": 6,
     "metadata": {},
     "output_type": "execute_result"
    }
   ],
   "source": [
    "#For Straight line\n",
    "my_array1.ravel()"
   ]
  },
  {
   "cell_type": "code",
   "execution_count": 35,
   "id": "dc9e501c",
   "metadata": {},
   "outputs": [
    {
     "data": {
      "text/plain": [
       "array([[ 1],\n",
       "       [ 2],\n",
       "       [12],\n",
       "       [12],\n",
       "       [ 5],\n",
       "       [ 6]])"
      ]
     },
     "execution_count": 35,
     "metadata": {},
     "output_type": "execute_result"
    }
   ],
   "source": [
    "#for Reshape\n",
    "my_array1.reshape((6,1))"
   ]
  },
  {
   "cell_type": "code",
   "execution_count": 8,
   "id": "1cc9f8a9",
   "metadata": {},
   "outputs": [
    {
     "data": {
      "text/plain": [
       "array([0, 1, 4, 5, 2, 3], dtype=int64)"
      ]
     },
     "execution_count": 8,
     "metadata": {},
     "output_type": "execute_result"
    }
   ],
   "source": [
    "#Built in method\n",
    "#for Sorting -from indexs\n",
    "my_array1.argsort()"
   ]
  },
  {
   "cell_type": "code",
   "execution_count": 9,
   "id": "f6c2cec4",
   "metadata": {},
   "outputs": [
    {
     "data": {
      "text/plain": [
       "(6,)"
      ]
     },
     "execution_count": 9,
     "metadata": {},
     "output_type": "execute_result"
    }
   ],
   "source": [
    "my_array1.shape"
   ]
  },
  {
   "cell_type": "code",
   "execution_count": 10,
   "id": "82c16c1f",
   "metadata": {},
   "outputs": [
    {
     "data": {
      "text/plain": [
       "dtype('int32')"
      ]
     },
     "execution_count": 10,
     "metadata": {},
     "output_type": "execute_result"
    }
   ],
   "source": [
    "my_array1.dtype"
   ]
  },
  {
   "cell_type": "code",
   "execution_count": 11,
   "id": "d2c8fdea",
   "metadata": {},
   "outputs": [
    {
     "data": {
      "text/plain": [
       "6"
      ]
     },
     "execution_count": 11,
     "metadata": {},
     "output_type": "execute_result"
    }
   ],
   "source": [
    "my_array1.size"
   ]
  },
  {
   "cell_type": "markdown",
   "id": "ef08fa69",
   "metadata": {},
   "source": [
    "2d array"
   ]
  },
  {
   "cell_type": "code",
   "execution_count": 38,
   "id": "12dc2784",
   "metadata": {},
   "outputs": [],
   "source": [
    "my_array2= np.array([[1,2,3,4,5,6]])"
   ]
  },
  {
   "cell_type": "code",
   "execution_count": 13,
   "id": "e0830105",
   "metadata": {},
   "outputs": [
    {
     "data": {
      "text/plain": [
       "4"
      ]
     },
     "execution_count": 13,
     "metadata": {},
     "output_type": "execute_result"
    }
   ],
   "source": [
    "my_array2[0,3]"
   ]
  },
  {
   "cell_type": "code",
   "execution_count": 14,
   "id": "bf3f36e1",
   "metadata": {},
   "outputs": [],
   "source": [
    "#Conversion from other Python structures -2D\n",
    "my_array2 = np.array([[9,12,13],[14,15,16],[17,18,19]])"
   ]
  },
  {
   "cell_type": "code",
   "execution_count": 15,
   "id": "6df374f3",
   "metadata": {},
   "outputs": [
    {
     "data": {
      "text/plain": [
       "array([[ 9, 12, 13],\n",
       "       [14, 15, 16],\n",
       "       [17, 18, 19]])"
      ]
     },
     "execution_count": 15,
     "metadata": {},
     "output_type": "execute_result"
    }
   ],
   "source": [
    "my_array2"
   ]
  },
  {
   "cell_type": "code",
   "execution_count": 16,
   "id": "bf08c1a7",
   "metadata": {},
   "outputs": [
    {
     "data": {
      "text/plain": [
       "array([40, 45, 48])"
      ]
     },
     "execution_count": 16,
     "metadata": {},
     "output_type": "execute_result"
    }
   ],
   "source": [
    "#for sum of axis\n",
    "my_array2.sum(axis =0)"
   ]
  },
  {
   "cell_type": "code",
   "execution_count": 17,
   "id": "0de1bcd6",
   "metadata": {},
   "outputs": [
    {
     "data": {
      "text/plain": [
       "array([[ 9, 14, 17],\n",
       "       [12, 15, 18],\n",
       "       [13, 16, 19]])"
      ]
     },
     "execution_count": 17,
     "metadata": {},
     "output_type": "execute_result"
    }
   ],
   "source": [
    "#for transposition\n",
    "my_array2.T"
   ]
  },
  {
   "cell_type": "code",
   "execution_count": 18,
   "id": "8b943478",
   "metadata": {},
   "outputs": [
    {
     "data": {
      "text/plain": [
       "array([[3.        , 3.46410162, 3.60555128],\n",
       "       [3.74165739, 3.87298335, 4.        ],\n",
       "       [4.12310563, 4.24264069, 4.35889894]])"
      ]
     },
     "execution_count": 18,
     "metadata": {},
     "output_type": "execute_result"
    }
   ],
   "source": [
    "#Built in Method\n",
    "#squareroot\n",
    "np.sqrt(my_array2)"
   ]
  },
  {
   "cell_type": "code",
   "execution_count": 19,
   "id": "af5924dc",
   "metadata": {},
   "outputs": [
    {
     "data": {
      "text/plain": [
       "16"
      ]
     },
     "execution_count": 19,
     "metadata": {},
     "output_type": "execute_result"
    }
   ],
   "source": [
    "#for indexing\n",
    "my_array2[1][2]"
   ]
  },
  {
   "cell_type": "code",
   "execution_count": 20,
   "id": "372da788",
   "metadata": {},
   "outputs": [
    {
     "data": {
      "text/plain": [
       "array([[1, 0, 0],\n",
       "       [0, 2, 0],\n",
       "       [0, 0, 3]])"
      ]
     },
     "execution_count": 20,
     "metadata": {},
     "output_type": "execute_result"
    }
   ],
   "source": [
    "#Built in fuction for creating array \n",
    "#for diagonal value\n",
    "np.diag([1, 2, 3])"
   ]
  },
  {
   "cell_type": "code",
   "execution_count": 21,
   "id": "97d92315",
   "metadata": {},
   "outputs": [
    {
     "data": {
      "text/plain": [
       "(3, 3)"
      ]
     },
     "execution_count": 21,
     "metadata": {},
     "output_type": "execute_result"
    }
   ],
   "source": [
    "my_array2.shape"
   ]
  },
  {
   "cell_type": "code",
   "execution_count": 22,
   "id": "dbf9593e",
   "metadata": {},
   "outputs": [
    {
     "data": {
      "text/plain": [
       "9"
      ]
     },
     "execution_count": 22,
     "metadata": {},
     "output_type": "execute_result"
    }
   ],
   "source": [
    "my_array2.size"
   ]
  },
  {
   "cell_type": "code",
   "execution_count": 23,
   "id": "16a644dc",
   "metadata": {},
   "outputs": [],
   "source": [
    "#Intrinsic NumPy array creation functions"
   ]
  },
  {
   "cell_type": "code",
   "execution_count": 24,
   "id": "f4301cea",
   "metadata": {},
   "outputs": [
    {
     "data": {
      "text/plain": [
       "array([[0., 0., 0.],\n",
       "       [0., 0., 0.],\n",
       "       [0., 0., 0.]])"
      ]
     },
     "execution_count": 24,
     "metadata": {},
     "output_type": "execute_result"
    }
   ],
   "source": [
    "#Built in fuction for creating array \n",
    "#for zeros \n",
    "zeros = np.zeros((3,3))\n",
    "zeros"
   ]
  },
  {
   "cell_type": "code",
   "execution_count": 25,
   "id": "84dd8971",
   "metadata": {},
   "outputs": [
    {
     "data": {
      "text/plain": [
       "array([ 0,  1,  2,  3,  4,  5,  6,  7,  8,  9, 10, 11, 12])"
      ]
     },
     "execution_count": 25,
     "metadata": {},
     "output_type": "execute_result"
    }
   ],
   "source": [
    "#arange funtion\n",
    "rng = np.arange(13)\n",
    "rng"
   ]
  },
  {
   "cell_type": "code",
   "execution_count": 26,
   "id": "9ceb808f",
   "metadata": {},
   "outputs": [
    {
     "data": {
      "text/plain": [
       "array([11.        , 11.08333333, 11.16666667, 11.25      , 11.33333333,\n",
       "       11.41666667, 11.5       , 11.58333333, 11.66666667, 11.75      ,\n",
       "       11.83333333, 11.91666667, 12.        ])"
      ]
     },
     "execution_count": 26,
     "metadata": {},
     "output_type": "execute_result"
    }
   ],
   "source": [
    "#for spacing in array\n",
    "lspace = np.linspace(11,12,13)\n",
    "lspace"
   ]
  },
  {
   "cell_type": "code",
   "execution_count": 27,
   "id": "113aa747",
   "metadata": {},
   "outputs": [
    {
     "name": "stdout",
     "output_type": "stream",
     "text": [
      "[1. 1. 1. 1.]\n",
      "[[1 1 1]\n",
      " [1 1 1]]\n"
     ]
    }
   ],
   "source": [
    "array_1d = np.ones(4)\n",
    "print(array_1d)\n",
    "\n",
    "\n",
    "array_2d_int = np.ones((2, 3), dtype=int)\n",
    "print(array_2d_int)"
   ]
  },
  {
   "cell_type": "code",
   "execution_count": 30,
   "id": "4bccf0a9",
   "metadata": {},
   "outputs": [
    {
     "name": "stdout",
     "output_type": "stream",
     "text": [
      "[0.69314718 1.09861229 1.38629436 1.60943791 1.79175947]\n"
     ]
    }
   ],
   "source": [
    "#Log (input) to the base e=(2.7)\n",
    "arr=np.array([2,3,4,5,6])\n",
    "log_value=np.log(arr) \n",
    "print(log_value)"
   ]
  },
  {
   "cell_type": "code",
   "execution_count": 31,
   "id": "999ca76f",
   "metadata": {},
   "outputs": [
    {
     "name": "stdout",
     "output_type": "stream",
     "text": [
      "0.0\n",
      "2.0\n"
     ]
    }
   ],
   "source": [
    "#Exponential function \n",
    "#e = 2.7182 (e^X and X=is the value pass by user) \n",
    "a = 1\n",
    "b = np.exp(2)\n",
    "print (np.log(a))\n",
    "print (np.log(b))"
   ]
  },
  {
   "cell_type": "code",
   "execution_count": 32,
   "id": "b97b59fa",
   "metadata": {},
   "outputs": [
    {
     "name": "stdout",
     "output_type": "stream",
     "text": [
      "Log value:  0.6931471805599453\n"
     ]
    }
   ],
   "source": [
    "#Log (input) to the base e=(2.7)\n",
    "import math   \n",
    "print(\"Log value: \", math.log(2))"
   ]
  },
  {
   "cell_type": "code",
   "execution_count": 33,
   "id": "00df9b0b",
   "metadata": {},
   "outputs": [
    {
     "name": "stdout",
     "output_type": "stream",
     "text": [
      "1.0\n"
     ]
    }
   ],
   "source": [
    "#Exponential function \n",
    "#e = 2.7182 (e^X and X=is the value pass by user) \n",
    "print(math.exp(0))"
   ]
  }
 ],
 "metadata": {
  "kernelspec": {
   "display_name": "Python 3 (ipykernel)",
   "language": "python",
   "name": "python3"
  },
  "language_info": {
   "codemirror_mode": {
    "name": "ipython",
    "version": 3
   },
   "file_extension": ".py",
   "mimetype": "text/x-python",
   "name": "python",
   "nbconvert_exporter": "python",
   "pygments_lexer": "ipython3",
   "version": "3.9.12"
  }
 },
 "nbformat": 4,
 "nbformat_minor": 5
}
