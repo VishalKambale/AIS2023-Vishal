{
 "cells": [
  {
   "cell_type": "code",
   "execution_count": 3,
   "id": "d434e134",
   "metadata": {},
   "outputs": [],
   "source": [
    "#LIST=List is a collection which is ordered and changeable. Allows duplicate members.\n",
    "\n",
    "\n",
    "list = [\"Vish\",\"Visha\",\"Vishal\"]"
   ]
  },
  {
   "cell_type": "code",
   "execution_count": 5,
   "id": "6c5da8b4",
   "metadata": {},
   "outputs": [
    {
     "name": "stdout",
     "output_type": "stream",
     "text": [
      "['Vish', 'Visha', 'Vishal']\n"
     ]
    }
   ],
   "source": [
    "print(list)"
   ]
  },
  {
   "cell_type": "code",
   "execution_count": 6,
   "id": "5ab6df4f",
   "metadata": {},
   "outputs": [
    {
     "name": "stdout",
     "output_type": "stream",
     "text": [
      "3\n"
     ]
    }
   ],
   "source": [
    "#len() for determine functions items in list\n",
    "\n",
    "\n",
    "print(len(list))"
   ]
  },
  {
   "cell_type": "code",
   "execution_count": 8,
   "id": "f53cad6a",
   "metadata": {},
   "outputs": [
    {
     "name": "stdout",
     "output_type": "stream",
     "text": [
      "<class 'list'>\n"
     ]
    }
   ],
   "source": [
    "#type\n",
    "\n",
    "\n",
    "print(type(list))"
   ]
  },
  {
   "cell_type": "code",
   "execution_count": 13,
   "id": "2f1356a6",
   "metadata": {},
   "outputs": [
    {
     "name": "stdout",
     "output_type": "stream",
     "text": [
      "Vishal\n",
      "Visha\n"
     ]
    }
   ],
   "source": [
    "#index number-postive,negavtive index\n",
    "\n",
    "\n",
    "print(list[2])\n",
    "print(list[-2])\n"
   ]
  },
  {
   "cell_type": "code",
   "execution_count": 32,
   "id": "47fa94b2",
   "metadata": {},
   "outputs": [
    {
     "name": "stdout",
     "output_type": "stream",
     "text": [
      "['Visha', 'Vishal']\n",
      "['Vish', 'Visha']\n",
      "['Vishal']\n",
      "['Vish', 'Visha']\n"
     ]
    }
   ],
   "source": [
    "#Range of Indexes\n",
    "#return the items from position 1 to 3.\n",
    "#item in position 3 is NOT included\n",
    "\n",
    "list = [\"Vish\",\"Visha\",\"Vishal\"]\n",
    "print(list[1:3])\n",
    "print(list[:2])\n",
    "print(list[2:])\n",
    "\n",
    "#Range of Negative Indexes\n",
    "print(list[-3:-1])"
   ]
  },
  {
   "cell_type": "code",
   "execution_count": 9,
   "id": "ea2f5b6d",
   "metadata": {},
   "outputs": [
    {
     "name": "stdout",
     "output_type": "stream",
     "text": [
      "Yes\n"
     ]
    }
   ],
   "source": [
    "list = [\"Vish\",\"Visha\",\"Vishal\"]\n",
    "if \"Vishal\" in list:\n",
    "    print( \"Yes\")"
   ]
  },
  {
   "cell_type": "code",
   "execution_count": 5,
   "id": "e6877329",
   "metadata": {},
   "outputs": [
    {
     "name": "stdout",
     "output_type": "stream",
     "text": [
      "['Vish', 'VishalK', 'Vishal']\n"
     ]
    }
   ],
   "source": [
    "#Change Value\n",
    "list = [\"Vish\",\"Visha\",\"Vishal\"]\n",
    "list[1] = \"VishalK\"\n",
    "print(list)"
   ]
  },
  {
   "cell_type": "code",
   "execution_count": 7,
   "id": "5bf9bb27",
   "metadata": {},
   "outputs": [
    {
     "name": "stdout",
     "output_type": "stream",
     "text": [
      "['Vish', 'VishalK', 'KVishal', 'watermelon', 'Vishal']\n"
     ]
    }
   ],
   "source": [
    "#Insert\n",
    "list.insert(2, \"KVishal\")\n",
    "print(list) "
   ]
  },
  {
   "cell_type": "code",
   "execution_count": 12,
   "id": "110b01cd",
   "metadata": {},
   "outputs": [
    {
     "name": "stdout",
     "output_type": "stream",
     "text": [
      "['Vish', 'Visha', 'Vishal', 'orange', 'Kambale', 'Kambale']\n"
     ]
    }
   ],
   "source": [
    "#append\n",
    "list.append(\"Kambale\")\n",
    "print(list)"
   ]
  },
  {
   "cell_type": "code",
   "execution_count": 16,
   "id": "04eca99c",
   "metadata": {},
   "outputs": [
    {
     "name": "stdout",
     "output_type": "stream",
     "text": [
      "['Vish', 'Visha', 'Vishal', 'VISHAL', 'KAMBALE', 'SATARA']\n"
     ]
    }
   ],
   "source": [
    "#extend\n",
    "list = [\"Vish\",\"Visha\",\"Vishal\"]\n",
    "new = [\"VISHAL\", \"KAMBALE\", \"SATARA\"]\n",
    "list.extend(new)\n",
    "print(list)"
   ]
  },
  {
   "cell_type": "code",
   "execution_count": 17,
   "id": "51900840",
   "metadata": {},
   "outputs": [
    {
     "name": "stdout",
     "output_type": "stream",
     "text": [
      "['Vish', 'Vishal', 'VISHAL', 'KAMBALE', 'SATARA']\n"
     ]
    }
   ],
   "source": [
    "#remove\n",
    "list.remove(\"Visha\")\n",
    "print(list)"
   ]
  },
  {
   "cell_type": "code",
   "execution_count": 20,
   "id": "b5a07185",
   "metadata": {},
   "outputs": [
    {
     "name": "stdout",
     "output_type": "stream",
     "text": [
      "['Vish', 'Vishal', 'VISHAL', 'KAMBALE', 'SATARA']\n",
      "['Vishal', 'VISHAL', 'KAMBALE', 'SATARA']\n"
     ]
    }
   ],
   "source": [
    "#remove index\n",
    "list = [\"Vish\",\"Visha\",\"Vishal\",\"VISHAL\", \"KAMBALE\", \"SATARA\"]\n",
    "list.pop(1)\n",
    "print(list)\n",
    "\n",
    "#also using del keyword\n",
    "del list[0]\n",
    "print(list)"
   ]
  },
  {
   "cell_type": "code",
   "execution_count": 21,
   "id": "c432a681",
   "metadata": {},
   "outputs": [
    {
     "name": "stdout",
     "output_type": "stream",
     "text": [
      "[]\n"
     ]
    }
   ],
   "source": [
    "#Clear List\n",
    "list.clear()\n",
    "print(list)"
   ]
  },
  {
   "cell_type": "code",
   "execution_count": 25,
   "id": "c2216352",
   "metadata": {},
   "outputs": [
    {
     "name": "stdout",
     "output_type": "stream",
     "text": [
      "Vish\n",
      "Visha\n",
      "Vishal\n",
      "VISHAL\n",
      "KAMBALE\n",
      "SATARA\n"
     ]
    }
   ],
   "source": [
    "#using Loop\n",
    "list = [\"Vish\",\"Visha\",\"Vishal\",\"VISHAL\", \"KAMBALE\", \"SATARA\"]\n",
    "for x in list:\n",
    "    print(x)"
   ]
  },
  {
   "cell_type": "code",
   "execution_count": 28,
   "id": "3878ecf8",
   "metadata": {},
   "outputs": [
    {
     "name": "stdout",
     "output_type": "stream",
     "text": [
      "['VISH', 'VISHA', 'VISHAL', 'VISHAL', 'KAMBALE', 'SATARA']\n"
     ]
    }
   ],
   "source": [
    "#upper()\n",
    "list = [x.upper() for x in list]\n",
    "print(list)"
   ]
  },
  {
   "cell_type": "code",
   "execution_count": 31,
   "id": "3b8ac452",
   "metadata": {},
   "outputs": [
    {
     "name": "stdout",
     "output_type": "stream",
     "text": [
      "['KAMBALE', 'SATARA', 'VISH', 'VISHA', 'VISHAL', 'VISHAL']\n",
      "[6, 12, 12, 20, 21]\n",
      "[21, 20, 12, 12, 6]\n"
     ]
    }
   ],
   "source": [
    "#sort\n",
    "list.sort()\n",
    "print(list)\n",
    "\n",
    "newlist = [21, 20, 12, 6, 12]\n",
    "newlist.sort()\n",
    "print(newlist)\n",
    "\n",
    "newlist.sort(reverse = True)\n",
    "print(newlist)"
   ]
  },
  {
   "cell_type": "code",
   "execution_count": 33,
   "id": "81fff47e",
   "metadata": {},
   "outputs": [
    {
     "name": "stdout",
     "output_type": "stream",
     "text": [
      "['KAMBALE', 'SATARA', 'VISH', 'VISHA', 'VISHAL', 'VISHAL']\n"
     ]
    }
   ],
   "source": [
    "#copy\n",
    "seclist = list.copy()\n",
    "print(seclist)"
   ]
  },
  {
   "cell_type": "code",
   "execution_count": 35,
   "id": "26fc547f",
   "metadata": {},
   "outputs": [
    {
     "name": "stdout",
     "output_type": "stream",
     "text": [
      "['Vishal', 'Vinay', 'Kambale', 12, 6, 98]\n"
     ]
    }
   ],
   "source": [
    "#Join Two Lists\n",
    "list1 = [\"Vishal\", \"Vinay\", \"Kambale\"]\n",
    "list2 = [12, 6, 98]\n",
    "list3 = list1 + list2\n",
    "print(list3)"
   ]
  },
  {
   "cell_type": "code",
   "execution_count": 37,
   "id": "1f10fd76",
   "metadata": {},
   "outputs": [
    {
     "name": "stdout",
     "output_type": "stream",
     "text": [
      "('i', 'me', 'my')\n",
      "3\n"
     ]
    }
   ],
   "source": [
    "#Tuple - \n",
    "#collection which is ordered and unchangeable\n",
    "# written with round brackets\n",
    "\n",
    "tuple = (\"i\", \"me\", \"my\")\n",
    "print(tuple)\n",
    "print(len(tuple))"
   ]
  },
  {
   "cell_type": "code",
   "execution_count": 38,
   "id": "bc8c901e",
   "metadata": {},
   "outputs": [
    {
     "name": "stdout",
     "output_type": "stream",
     "text": [
      "<class 'tuple'>\n",
      "<class 'str'>\n"
     ]
    }
   ],
   "source": [
    "tuple = (\"Vishal\",)\n",
    "print(type(tuple))\n",
    "\n",
    "#NOT a tuple\n",
    "tuple = (\"Vishal\")\n",
    "print(type(tuple))"
   ]
  },
  {
   "cell_type": "code",
   "execution_count": 40,
   "id": "bb7b28d2",
   "metadata": {},
   "outputs": [
    {
     "name": "stdout",
     "output_type": "stream",
     "text": [
      "my\n"
     ]
    }
   ],
   "source": [
    "#Negative Indexing\n",
    "tuple = (\"i\", \"me\", \"my\")\n",
    "print(tuple[-1])"
   ]
  },
  {
   "cell_type": "code",
   "execution_count": 44,
   "id": "b506f6fe",
   "metadata": {},
   "outputs": [
    {
     "name": "stdout",
     "output_type": "stream",
     "text": [
      "3\n"
     ]
    }
   ],
   "source": [
    "#Count method\n",
    "tuple = (1, 3, 7, 8, 7, 5, 4, 6, 8, 7)\n",
    "x = tuple.count(7)\n",
    "print(x)"
   ]
  },
  {
   "cell_type": "code",
   "execution_count": 45,
   "id": "f25a2e3a",
   "metadata": {},
   "outputs": [
    {
     "name": "stdout",
     "output_type": "stream",
     "text": [
      "3\n"
     ]
    }
   ],
   "source": [
    "#index method\n",
    "x = tuple.index(8)\n",
    "print(x)"
   ]
  },
  {
   "cell_type": "code",
   "execution_count": 48,
   "id": "d9d1370c",
   "metadata": {},
   "outputs": [
    {
     "name": "stdout",
     "output_type": "stream",
     "text": [
      "{'visha', 'Vishalk', 'Kambale', 'Vishal'}\n"
     ]
    }
   ],
   "source": [
    "#Set -\n",
    "#Set is a collection which is unordered, unchangeable, and unindexed.No duplicate members\n",
    "\n",
    "#add\n",
    "Vishal1 = {\"visha\", \"Vishalk\", \"Vishal\"}\n",
    "Vishal1.add(\"Kambale\")\n",
    "print(Vishal1)"
   ]
  },
  {
   "cell_type": "code",
   "execution_count": 52,
   "id": "f554513c",
   "metadata": {},
   "outputs": [
    {
     "name": "stdout",
     "output_type": "stream",
     "text": [
      "set()\n"
     ]
    }
   ],
   "source": [
    "#clear\n",
    "Vishal1 = {\"visha\", \"Vishalk\", \"Vishal\"}\n",
    "Vishal1.clear()\n",
    "print(Vishal1)"
   ]
  },
  {
   "cell_type": "code",
   "execution_count": 53,
   "id": "bd89a86b",
   "metadata": {},
   "outputs": [
    {
     "name": "stdout",
     "output_type": "stream",
     "text": [
      "set()\n"
     ]
    }
   ],
   "source": [
    "#copy\n",
    "x = Vishal1.copy()\n",
    "print(x)"
   ]
  },
  {
   "cell_type": "code",
   "execution_count": 59,
   "id": "82ba87f6",
   "metadata": {},
   "outputs": [
    {
     "name": "stdout",
     "output_type": "stream",
     "text": [
      "{'nano', 'Vishal1'}\n"
     ]
    }
   ],
   "source": [
    "#difference\n",
    "a = {\"nano\", \"Vishal1\", \"google\"}\n",
    "b = {\"google\", \"microsoft\", \"apple\"}\n",
    "c = a.difference(b) \n",
    "print(c)"
   ]
  },
  {
   "cell_type": "code",
   "execution_count": 67,
   "id": "7c693b7f",
   "metadata": {},
   "outputs": [
    {
     "name": "stdout",
     "output_type": "stream",
     "text": [
      "{'honda', 'tata'}\n",
      "{'honda'}\n"
     ]
    }
   ],
   "source": [
    "#discard\n",
    "car = {\"tata\", \"nano\", \"honda\"}\n",
    "car.discard(\"nano\")\n",
    "print(car)\n",
    "\n",
    "#intersection\n",
    "car = {\"tata\", \"nano\", \"honda\"}\n",
    "b = {\"google\", \"microsoft\", \"honda\"}\n",
    "c = car.intersection(b) \n",
    "print(c)"
   ]
  },
  {
   "cell_type": "code",
   "execution_count": 70,
   "id": "c9eef2f5",
   "metadata": {},
   "outputs": [
    {
     "name": "stdout",
     "output_type": "stream",
     "text": [
      "{'nano', 'tata'}\n",
      "{'honda', 'nano'}\n"
     ]
    }
   ],
   "source": [
    "#pop\n",
    "b = {\"tata\", \"nano\", \"honda\"}\n",
    "b.pop()\n",
    "print(b)\n",
    "\n",
    "#remove\n",
    "car = {\"tata\", \"nano\", \"honda\"}\n",
    "car.remove(\"tata\")\n",
    "print(car)"
   ]
  },
  {
   "cell_type": "code",
   "execution_count": 71,
   "id": "4426c25e",
   "metadata": {},
   "outputs": [
    {
     "name": "stdout",
     "output_type": "stream",
     "text": [
      "{'honda', 'tata'}\n"
     ]
    }
   ],
   "source": [
    "#Set symmetric_difference\n",
    "c = car.symmetric_difference(b) \n",
    "print(c)"
   ]
  },
  {
   "cell_type": "code",
   "execution_count": 76,
   "id": "16dee643",
   "metadata": {},
   "outputs": [
    {
     "name": "stdout",
     "output_type": "stream",
     "text": [
      "{'apple', 'google', 'microsoft', 'cherry', 'banana'}\n",
      "{'google', 'tata', 'honda', 'nano', 'microsoft'}\n"
     ]
    }
   ],
   "source": [
    "#Set union\n",
    "x = {\"apple\", \"banana\", \"cherry\"}\n",
    "y = {\"google\", \"microsoft\", \"apple\"}\n",
    "z = x.union(y) \n",
    "print(z)\n",
    "\n",
    "#update\n",
    "car = {\"tata\", \"nano\", \"honda\"}\n",
    "b = {\"google\", \"microsoft\", \"honda\"}\n",
    "c = car.update(b) \n",
    "print(car)"
   ]
  }
 ],
 "metadata": {
  "kernelspec": {
   "display_name": "Python 3 (ipykernel)",
   "language": "python",
   "name": "python3"
  },
  "language_info": {
   "codemirror_mode": {
    "name": "ipython",
    "version": 3
   },
   "file_extension": ".py",
   "mimetype": "text/x-python",
   "name": "python",
   "nbconvert_exporter": "python",
   "pygments_lexer": "ipython3",
   "version": "3.9.12"
  }
 },
 "nbformat": 4,
 "nbformat_minor": 5
}
