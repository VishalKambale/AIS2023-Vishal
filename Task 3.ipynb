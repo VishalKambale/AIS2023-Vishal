{
 "cells": [
  {
   "cell_type": "markdown",
   "id": "861e8703",
   "metadata": {},
   "source": [
    "# Lambda"
   ]
  },
  {
   "cell_type": "raw",
   "id": "9cbeb7e9",
   "metadata": {},
   "source": [
    "# A lambda function is a small anonymous function\n",
    "# Anonymous function is unnnamed funtion "
   ]
  },
  {
   "cell_type": "code",
   "execution_count": 1,
   "id": "0fe72a65",
   "metadata": {},
   "outputs": [
    {
     "name": "stdout",
     "output_type": "stream",
     "text": [
      "12\n"
     ]
    }
   ],
   "source": [
    "x = lambda l : l + 6\n",
    "print(x(6))"
   ]
  },
  {
   "cell_type": "code",
   "execution_count": 2,
   "id": "56ed6386",
   "metadata": {},
   "outputs": [
    {
     "name": "stdout",
     "output_type": "stream",
     "text": [
      "420\n"
     ]
    }
   ],
   "source": [
    "x = lambda z : z * 23 + z * 12\n",
    "print(x(12))"
   ]
  },
  {
   "cell_type": "code",
   "execution_count": 3,
   "id": "8050bea6",
   "metadata": {},
   "outputs": [
    {
     "data": {
      "text/plain": [
       "[1, 2]"
      ]
     },
     "execution_count": 3,
     "metadata": {},
     "output_type": "execute_result"
    }
   ],
   "source": [
    "#Filter \n",
    "l=[1,2,3,4,5,6]\n",
    "list(filter(lambda x:x<3,l))"
   ]
  },
  {
   "cell_type": "code",
   "execution_count": 4,
   "id": "268072ae",
   "metadata": {},
   "outputs": [
    {
     "data": {
      "text/plain": [
       "[11, 12, 13, 14, 15, 16]"
      ]
     },
     "execution_count": 4,
     "metadata": {},
     "output_type": "execute_result"
    }
   ],
   "source": [
    "l=[11,12,13,14,15,16]\n",
    "list(filter(lambda x:x>6,l))"
   ]
  },
  {
   "cell_type": "code",
   "execution_count": 10,
   "id": "97f479c6",
   "metadata": {},
   "outputs": [
    {
     "data": {
      "text/plain": [
       "[168, 182, 196, 210, 224]"
      ]
     },
     "execution_count": 10,
     "metadata": {},
     "output_type": "execute_result"
    }
   ],
   "source": [
    "#Map\n",
    "l=[12,13,14,15,16]\n",
    "list(map(lambda v:v*14,l))"
   ]
  },
  {
   "cell_type": "code",
   "execution_count": 6,
   "id": "a9a0d87b",
   "metadata": {},
   "outputs": [
    {
     "name": "stdout",
     "output_type": "stream",
     "text": [
      "<map object at 0x0000015E6F359850>\n",
      "('Routerlan', 'wifibroadband', 'donglehotspot')\n"
     ]
    }
   ],
   "source": [
    "def func(x, y):\n",
    "    return x + y\n",
    "\n",
    "x = map(func, ('Router','wifi','dongle'), ('lan','broadband','hotspot'))\n",
    "print(x)\n",
    "print(tuple(x))"
   ]
  },
  {
   "cell_type": "code",
   "execution_count": 7,
   "id": "adf574b6",
   "metadata": {},
   "outputs": [
    {
     "data": {
      "text/plain": [
       "['vishal']"
      ]
     },
     "execution_count": 7,
     "metadata": {},
     "output_type": "execute_result"
    }
   ],
   "source": [
    "n=[\"vishal\",\"amrutesh\",\"rajas\",\"girish\",\"akash\",\"indrajeet\"]\n",
    "list(filter(lambda x:x==\"vishal\",n))"
   ]
  },
  {
   "cell_type": "markdown",
   "id": "d516b130",
   "metadata": {},
   "source": [
    "# Format "
   ]
  },
  {
   "cell_type": "raw",
   "id": "5c4bef52",
   "metadata": {},
   "source": [
    "# The format() function formats a specified value into a specified format"
   ]
  },
  {
   "cell_type": "code",
   "execution_count": 8,
   "id": "cb7bd37f",
   "metadata": {},
   "outputs": [
    {
     "name": "stdout",
     "output_type": "stream",
     "text": [
      "my name is vishal\n",
      "my name is amrutesh\n",
      "my name is rajas\n",
      "my name is girish\n",
      "my name is akash\n",
      "my name is indrajeet\n"
     ]
    }
   ],
   "source": [
    "n=[\"vishal\",\"amrutesh\",\"rajas\",\"girish\",\"akash\",\"indrajeet\"]\n",
    "for i in n:\n",
    "    print(\"my name is {}\".format(i))"
   ]
  },
  {
   "cell_type": "code",
   "execution_count": 9,
   "id": "1f90ddbe",
   "metadata": {},
   "outputs": [
    {
     "name": "stdout",
     "output_type": "stream",
     "text": [
      "The temperature is between +24 and +33 degrees celsius.\n"
     ]
    }
   ],
   "source": [
    "txt = \"The temperature is between {:+} and {:+} degrees celsius.\"\n",
    "print(txt.format(24, 33))"
   ]
  },
  {
   "cell_type": "code",
   "execution_count": 10,
   "id": "51fb857c",
   "metadata": {},
   "outputs": [
    {
     "data": {
      "text/plain": [
       "6"
      ]
     },
     "execution_count": 10,
     "metadata": {},
     "output_type": "execute_result"
    }
   ],
   "source": [
    "def f(x):\n",
    "  return x * 2\n",
    "\n",
    "f(3)\n"
   ]
  },
  {
   "cell_type": "code",
   "execution_count": null,
   "id": "6b02769a",
   "metadata": {},
   "outputs": [],
   "source": []
  }
 ],
 "metadata": {
  "kernelspec": {
   "display_name": "Python 3 (ipykernel)",
   "language": "python",
   "name": "python3"
  },
  "language_info": {
   "codemirror_mode": {
    "name": "ipython",
    "version": 3
   },
   "file_extension": ".py",
   "mimetype": "text/x-python",
   "name": "python",
   "nbconvert_exporter": "python",
   "pygments_lexer": "ipython3",
   "version": "3.9.12"
  }
 },
 "nbformat": 4,
 "nbformat_minor": 5
}
